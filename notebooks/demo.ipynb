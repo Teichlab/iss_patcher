{
 "cells": [
  {
   "cell_type": "code",
   "execution_count": 1,
   "id": "veterinary-memorabilia",
   "metadata": {},
   "outputs": [],
   "source": [
    "import iss_patcher as ip\n",
    "import scanpy as sc"
   ]
  },
  {
   "cell_type": "markdown",
   "id": "initial-heath",
   "metadata": {},
   "source": [
    "Load example data. Both objects have raw counts in `.X`.\n",
    "\n",
    "**TODO: put this up on FTP once this goes public, can point `backup_url` to an FTP link**"
   ]
  },
  {
   "cell_type": "code",
   "execution_count": 2,
   "id": "emerging-character",
   "metadata": {},
   "outputs": [],
   "source": [
    "iss = sc.read(\"/lustre/scratch126/cellgen/team205/kt21/skeletal/ISS_JNT_1_anndata.h5ad\")\n",
    "gex = sc.read(\"/lustre/scratch126/cellgen/team205/kt21/skeletal/ISS/Droplet_JNT_1.h5ad\")"
   ]
  },
  {
   "cell_type": "markdown",
   "id": "adopted-handbook",
   "metadata": {},
   "source": [
    "The ISS data is low-dimensional, with few features captured experimentally."
   ]
  },
  {
   "cell_type": "code",
   "execution_count": 3,
   "id": "clinical-tobago",
   "metadata": {},
   "outputs": [
    {
     "data": {
      "text/plain": [
       "AnnData object with n_obs × n_vars = 97907 × 158\n",
       "    obs: 'sample', 'total_counts', 'n_genes_by_counts', 'leiden'\n",
       "    var: 'total_counts', 'n_cells_by_counts'"
      ]
     },
     "execution_count": 3,
     "metadata": {},
     "output_type": "execute_result"
    }
   ],
   "source": [
    "iss"
   ]
  },
  {
   "cell_type": "markdown",
   "id": "graphic-needle",
   "metadata": {},
   "source": [
    "The GEX data has more features as it's transcriptomics."
   ]
  },
  {
   "cell_type": "code",
   "execution_count": 4,
   "id": "passive-boxing",
   "metadata": {},
   "outputs": [
    {
     "data": {
      "text/plain": [
       "AnnData object with n_obs × n_vars = 16247 × 33958\n",
       "    obs: 'nCount_RNA', 'nFeature_RNA', 'run_id', 'batch', 'relative_position', 'bone', 'scrublet_score', 'scrublet_leiden', 'cluster_scrublet_score', 'doublet_pval', 'doublet_bh_pval', 'anatomical_site', 'pcw', 'brc_code', 'percent_mito', 'percent_ribo', 'n_counts', 'n_genes', 'n_genes_by_counts', 'total_counts', 'total_counts_mt', 'pct_counts_mt', 'total_counts_ribo', 'pct_counts_ribo', 'total_counts_hb', 'pct_counts_hb', 'annot'\n",
       "    var: 'name-0', 'name-1', 'name-10', 'name-11', 'name-12', 'name-13', 'name-14', 'name-15', 'name-16', 'name-17', 'name-18', 'name-19', 'name-2', 'name-20', 'name-21', 'name-22', 'name-23', 'name-24', 'name-25', 'name-26', 'name-27', 'name-28', 'name-0-29', 'name-1-29', 'name-2-29', 'name-3-29', 'name-4-29', 'name-3', 'name-0-30', 'name-1-30', 'name-2-30', 'name-3-30', 'name-4-30', 'name-0-31', 'name-1-31', 'name-2-31', 'name-3-31', 'name-4-31', 'name-0-32', 'name-1-32', 'name-2-32', 'name-3-32', 'name-4-32', 'name-0-33', 'name-1-33', 'name-2-33', 'name-3-33', 'name-4-33', 'name-34', 'name-35', 'name-36', 'name-37', 'name-38', 'name-39', 'name-4', 'name-40', 'name-0-41', 'name-1-41', 'name-2-41', 'name-3-41', 'name-0-42', 'name-1-42', 'name-2-42', 'name-3-42', 'name-0-43', 'name-1-43', 'name-2-43', 'name-3-43', 'name-0-44', 'name-1-44', 'name-2-44', 'name-3-44', 'name-0-45', 'name-1-45', 'name-2-45', 'name-3-45', 'name-0-46', 'name-1-46', 'name-2-46', 'name-3-46', 'name-0-47', 'name-1-47', 'name-2-47', 'name-3-47', 'name-0-48', 'name-1-48', 'name-2-48', 'name-3-48', 'name-5', 'name-6', 'name-7', 'name-8', 'name-9', 'n_cells', 'mt', 'ribo', 'hb', 'n_cells_by_counts', 'mean_counts', 'pct_dropout_by_counts', 'total_counts'\n",
       "    uns: 'run_id_colors'"
      ]
     },
     "execution_count": 4,
     "metadata": {},
     "output_type": "execute_result"
    }
   ],
   "source": [
    "gex"
   ]
  },
  {
   "cell_type": "markdown",
   "id": "patient-pittsburgh",
   "metadata": {},
   "source": [
    "All of the ISS genes are captured in the GEX."
   ]
  },
  {
   "cell_type": "code",
   "execution_count": 5,
   "id": "sophisticated-oregon",
   "metadata": {},
   "outputs": [
    {
     "data": {
      "text/plain": [
       "158"
      ]
     },
     "execution_count": 5,
     "metadata": {},
     "output_type": "execute_result"
    }
   ],
   "source": [
    "len(set(iss.var_names).intersection(gex.var_names))"
   ]
  },
  {
   "cell_type": "markdown",
   "id": "accredited-sunset",
   "metadata": {},
   "source": [
    "At this point we can run `ip.patch(iss, gex)`. The function will:\n",
    "- split the high dimensionality `gex` into two sub-objects, one matching the feature space of `iss` and the other holding information for the features not appearing in `iss`.\n",
    "- compute a z-score representation of the data in the two objects with the `iss` feature space (via the Scanpy standard of `normalize_total()` to per-dataset medians, into `log1p()` and `scale()`)\n",
    "- identify each `iss` cell's neighbours in the feature space shared with `gex`\n",
    "- compute the mean of features not appearing in `iss` for each `iss` cell's neighbour set\n",
    "- optionally identify the most common metadata value of specified `obs_to_take` columns from `gex` and report that for each `iss` cell"
   ]
  },
  {
   "cell_type": "code",
   "execution_count": 6,
   "id": "charged-craps",
   "metadata": {},
   "outputs": [
    {
     "name": "stderr",
     "output_type": "stream",
     "text": [
      "/home/jovyan/my-conda-envs/iss_patcher/lib/python3.9/site-packages/scanpy/preprocessing/_simple.py:140: ImplicitModificationWarning: Trying to modify attribute `.obs` of view, initializing view as actual.\n",
      "  adata.obs['n_genes'] = number\n",
      "/home/jovyan/my-conda-envs/iss_patcher/lib/python3.9/site-packages/scanpy/preprocessing/_simple.py:140: ImplicitModificationWarning: Trying to modify attribute `.obs` of view, initializing view as actual.\n",
      "  adata.obs['n_genes'] = number\n"
     ]
    }
   ],
   "source": [
    "out = ip.patch(iss=iss, gex=gex, obs_to_take=\"annot\")"
   ]
  },
  {
   "cell_type": "markdown",
   "id": "rising-appraisal",
   "metadata": {},
   "source": [
    "The resulting object has counts in `.X`, ready for subsequent processing. The feature space is the 33800 (33958 - 158) genes absent from the original ISS data. The `.obs` mostly come from the ISS object, and the `.var` come from the GEX object. `.obs['annot']` is generated based on the GEX neighbours, as requested in the function call."
   ]
  },
  {
   "cell_type": "code",
   "execution_count": 7,
   "id": "surprising-depth",
   "metadata": {},
   "outputs": [
    {
     "data": {
      "text/plain": [
       "AnnData object with n_obs × n_vars = 95214 × 33800\n",
       "    obs: 'sample', 'total_counts', 'n_genes_by_counts', 'leiden', 'n_genes', 'annot', 'annot_fraction'\n",
       "    var: 'name-0', 'name-1', 'name-10', 'name-11', 'name-12', 'name-13', 'name-14', 'name-15', 'name-16', 'name-17', 'name-18', 'name-19', 'name-2', 'name-20', 'name-21', 'name-22', 'name-23', 'name-24', 'name-25', 'name-26', 'name-27', 'name-28', 'name-0-29', 'name-1-29', 'name-2-29', 'name-3-29', 'name-4-29', 'name-3', 'name-0-30', 'name-1-30', 'name-2-30', 'name-3-30', 'name-4-30', 'name-0-31', 'name-1-31', 'name-2-31', 'name-3-31', 'name-4-31', 'name-0-32', 'name-1-32', 'name-2-32', 'name-3-32', 'name-4-32', 'name-0-33', 'name-1-33', 'name-2-33', 'name-3-33', 'name-4-33', 'name-34', 'name-35', 'name-36', 'name-37', 'name-38', 'name-39', 'name-4', 'name-40', 'name-0-41', 'name-1-41', 'name-2-41', 'name-3-41', 'name-0-42', 'name-1-42', 'name-2-42', 'name-3-42', 'name-0-43', 'name-1-43', 'name-2-43', 'name-3-43', 'name-0-44', 'name-1-44', 'name-2-44', 'name-3-44', 'name-0-45', 'name-1-45', 'name-2-45', 'name-3-45', 'name-0-46', 'name-1-46', 'name-2-46', 'name-3-46', 'name-0-47', 'name-1-47', 'name-2-47', 'name-3-47', 'name-0-48', 'name-1-48', 'name-2-48', 'name-3-48', 'name-5', 'name-6', 'name-7', 'name-8', 'name-9', 'n_cells', 'mt', 'ribo', 'hb', 'n_cells_by_counts', 'mean_counts', 'pct_dropout_by_counts', 'total_counts'"
      ]
     },
     "execution_count": 7,
     "metadata": {},
     "output_type": "execute_result"
    }
   ],
   "source": [
    "out"
   ]
  }
 ],
 "metadata": {
  "kernelspec": {
   "display_name": "iss_patcher",
   "language": "python",
   "name": "iss_patcher"
  },
  "language_info": {
   "codemirror_mode": {
    "name": "ipython",
    "version": 3
   },
   "file_extension": ".py",
   "mimetype": "text/x-python",
   "name": "python",
   "nbconvert_exporter": "python",
   "pygments_lexer": "ipython3",
   "version": "3.9.16"
  }
 },
 "nbformat": 4,
 "nbformat_minor": 5
}
